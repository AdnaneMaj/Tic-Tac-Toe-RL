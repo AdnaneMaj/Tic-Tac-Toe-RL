{
 "cells": [
  {
   "cell_type": "markdown",
   "metadata": {},
   "source": [
    "# X-O agents\n",
    "*MAJDOUB Adnane*"
   ]
  },
  {
   "cell_type": "code",
   "execution_count": 37,
   "metadata": {},
   "outputs": [],
   "source": [
    "#First we set the strategy of each of the 2 players using the base class strategy\n",
    "from xo_agents import Strategy,TicTacToe\n",
    "\n",
    "\n",
    "#We will suppose that player 1 will choose a random strategy\n",
    "import random\n",
    "import numpy as np\n",
    "\n",
    "class RandomStrategy(Strategy):\n",
    "    def __init__(self) -> None:\n",
    "        super().__init__()\n",
    "\n",
    "    def select_move(self, board):\n",
    "        available_moves = [index for index,c in enumerate(board) if c==' ']\n",
    "        return random.choice(available_moves)\n",
    "    \n",
    "\n",
    "\n",
    "#And we will supose the player 2 will play with a normal disterbution sampling strategy\n",
    "class NormalStrategy(Strategy):\n",
    "    def __init__(self,mu,sigma) -> None:\n",
    "        super().__init__()\n",
    "        self.mu = mu\n",
    "        self.sigma = sigma\n",
    "\n",
    "    def select_move(self, board):\n",
    "        available_moves = [index for index,c in enumerate(board) if c==' ']\n",
    "\n",
    "        # Generate probabilities using a normal distribution N(mu, sigma)\n",
    "        probabilities = np.random.normal(self.mu, self.sigma, len(available_moves))\n",
    "\n",
    "        # Normalize the probabilities to sum to 1 (since they can be negative)\n",
    "        probabilities = np.abs(probabilities)  # Make all values positive\n",
    "        probabilities /= probabilities.sum()   # Normalize to sum to 1\n",
    "\n",
    "        # Randomly choose an element based on the normalized probabilities\n",
    "        return random.choices(available_moves, weights=probabilities, k=1)[0]"
   ]
  },
  {
   "cell_type": "code",
   "execution_count": null,
   "metadata": {},
   "outputs": [],
   "source": [
    "class Exhaustive(Strategy):\n",
    "    def __init__(self)"
   ]
  },
  {
   "cell_type": "code",
   "execution_count": 38,
   "metadata": {},
   "outputs": [
    {
     "name": "stdout",
     "output_type": "stream",
     "text": [
      "|   |   |   |\n",
      "----+---+----\n",
      "|   |   |   |\n",
      "----+---+----\n",
      "|   |   |   |\n",
      "___________________________________\n",
      "Random player played :\n",
      "|   |   |   |\n",
      "----+---+----\n",
      "|   |   |   |\n",
      "----+---+----\n",
      "|   | X |   |\n",
      "___________________________________\n",
      "Normal player played :\n",
      "| O |   |   |\n",
      "----+---+----\n",
      "|   |   |   |\n",
      "----+---+----\n",
      "|   | X |   |\n",
      "___________________________________\n",
      "Random player played :\n",
      "| O |   |   |\n",
      "----+---+----\n",
      "|   | X |   |\n",
      "----+---+----\n",
      "|   | X |   |\n",
      "___________________________________\n",
      "Normal player played :\n",
      "| O | O |   |\n",
      "----+---+----\n",
      "|   | X |   |\n",
      "----+---+----\n",
      "|   | X |   |\n",
      "___________________________________\n",
      "Random player played :\n",
      "| O | O |   |\n",
      "----+---+----\n",
      "|   | X |   |\n",
      "----+---+----\n",
      "|   | X | X |\n",
      "___________________________________\n",
      "Normal player played :\n",
      "| O | O | O |\n",
      "----+---+----\n",
      "|   | X |   |\n",
      "----+---+----\n",
      "|   | X | X |\n",
      "___________________________________\n",
      "Normal player wins!\n"
     ]
    }
   ],
   "source": [
    "#create an instance of the two strategies\n",
    "p1_strat = RandomStrategy()\n",
    "p2_strat = NormalStrategy(mu=0,sigma=1)\n",
    "\n",
    "#Set players names\n",
    "p1_name = \"Random player\"\n",
    "p2_name = \"Normal player\"\n",
    "\n",
    "#create a game\n",
    "game = TicTacToe(p1_name,p2_name,p1_strat,p2_strat)\n",
    "\n",
    "#Make the agents play the games\n",
    "trace = game.play_game()"
   ]
  },
  {
   "cell_type": "code",
   "execution_count": 39,
   "metadata": {},
   "outputs": [
    {
     "data": {
      "image/png": "[encoded data removed]",
      "text/plain": [
       "<Figure size 640x480 with 1 Axes>"
      ]
     },
     "metadata": {},
     "output_type": "display_data"
    },
    {
     "data": {
      "text/plain": [
       "{'X_wins': 529, 'O_wins': 471, 'draws': 0}"
      ]
     },
     "execution_count": 39,
     "metadata": {},
     "output_type": "execute_result"
    }
   ],
   "source": [
    "#Evaluate the strategies statistically\n",
    "game.evaluate_strategies(plot=True)"
   ]
  },
  {
   "cell_type": "code",
   "execution_count": 40,
   "metadata": {},
   "outputs": [
    {
     "name": "stdout",
     "output_type": "stream",
     "text": [
      "|   |   |   |\n",
      "----+---+----\n",
      "|   |   |   |\n",
      "----+---+----\n",
      "|   |   |   |\n",
      "___________________________________\n",
      "Random player played :\n",
      "|   |   |   |\n",
      "----+---+----\n",
      "|   |   |   |\n",
      "----+---+----\n",
      "|   | X |   |\n",
      "___________________________________\n",
      "Normal player played :\n",
      "| O |   |   |\n",
      "----+---+----\n",
      "|   |   |   |\n",
      "----+---+----\n",
      "|   | X |   |\n",
      "___________________________________\n",
      "Random player played :\n",
      "| O |   |   |\n",
      "----+---+----\n",
      "|   | X |   |\n",
      "----+---+----\n",
      "|   | X |   |\n",
      "___________________________________\n",
      "Normal player played :\n",
      "| O | O |   |\n",
      "----+---+----\n",
      "|   | X |   |\n",
      "----+---+----\n",
      "|   | X |   |\n",
      "___________________________________\n",
      "Random player played :\n",
      "| O | O |   |\n",
      "----+---+----\n",
      "|   | X |   |\n",
      "----+---+----\n",
      "|   | X | X |\n",
      "___________________________________\n",
      "Normal player played :\n",
      "| O | O | O |\n",
      "----+---+----\n",
      "|   | X |   |\n",
      "----+---+----\n",
      "|   | X | X |\n",
      "___________________________________\n",
      "Normal player wins!\n"
     ]
    }
   ],
   "source": [
    "print(game.game_trace)"
   ]
  }
 ],
 "metadata": {
  "kernelspec": {
   "display_name": "RL",
   "language": "python",
   "name": "python3"
  },
  "language_info": {
   "codemirror_mode": {
    "name": "ipython",
    "version": 3
   },
   "file_extension": ".py",
   "mimetype": "text/x-python",
   "name": "python",
   "nbconvert_exporter": "python",
   "pygments_lexer": "ipython3",
   "version": "3.12.6"
  }
 },
 "nbformat": 4,
 "nbformat_minor": 2
}
